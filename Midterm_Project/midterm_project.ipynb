{
 "cells": [
  {
   "cell_type": "code",
   "execution_count": 1,
   "metadata": {},
   "outputs": [],
   "source": [
    "#importing libraries\n",
    "import pandas as pd\n",
    "import matplotlib.pyplot as plt\n",
    "import seaborn as sns\n",
    "import numpy as np\n",
    "%matplotlib inline"
   ]
  },
  {
   "cell_type": "code",
   "execution_count": 2,
   "metadata": {},
   "outputs": [
    {
     "name": "stdout",
     "output_type": "stream",
     "text": [
      "(10841, 13)\n"
     ]
    },
    {
     "data": {
      "text/html": [
       "<div>\n",
       "<style scoped>\n",
       "    .dataframe tbody tr th:only-of-type {\n",
       "        vertical-align: middle;\n",
       "    }\n",
       "\n",
       "    .dataframe tbody tr th {\n",
       "        vertical-align: top;\n",
       "    }\n",
       "\n",
       "    .dataframe thead th {\n",
       "        text-align: right;\n",
       "    }\n",
       "</style>\n",
       "<table border=\"1\" class=\"dataframe\">\n",
       "  <thead>\n",
       "    <tr style=\"text-align: right;\">\n",
       "      <th></th>\n",
       "      <th>App</th>\n",
       "      <th>Category</th>\n",
       "      <th>Rating</th>\n",
       "      <th>Reviews</th>\n",
       "      <th>Size</th>\n",
       "      <th>Installs</th>\n",
       "      <th>Type</th>\n",
       "      <th>Price</th>\n",
       "      <th>Content Rating</th>\n",
       "      <th>Genres</th>\n",
       "      <th>Last Updated</th>\n",
       "      <th>Current Ver</th>\n",
       "      <th>Android Ver</th>\n",
       "    </tr>\n",
       "  </thead>\n",
       "  <tbody>\n",
       "    <tr>\n",
       "      <th>0</th>\n",
       "      <td>Photo Editor &amp; Candy Camera &amp; Grid &amp; ScrapBook</td>\n",
       "      <td>ART_AND_DESIGN</td>\n",
       "      <td>4.1</td>\n",
       "      <td>159</td>\n",
       "      <td>19M</td>\n",
       "      <td>10,000+</td>\n",
       "      <td>Free</td>\n",
       "      <td>0</td>\n",
       "      <td>Everyone</td>\n",
       "      <td>Art &amp; Design</td>\n",
       "      <td>January 7, 2018</td>\n",
       "      <td>1.0.0</td>\n",
       "      <td>4.0.3 and up</td>\n",
       "    </tr>\n",
       "    <tr>\n",
       "      <th>1</th>\n",
       "      <td>Coloring book moana</td>\n",
       "      <td>ART_AND_DESIGN</td>\n",
       "      <td>3.9</td>\n",
       "      <td>967</td>\n",
       "      <td>14M</td>\n",
       "      <td>500,000+</td>\n",
       "      <td>Free</td>\n",
       "      <td>0</td>\n",
       "      <td>Everyone</td>\n",
       "      <td>Art &amp; Design;Pretend Play</td>\n",
       "      <td>January 15, 2018</td>\n",
       "      <td>2.0.0</td>\n",
       "      <td>4.0.3 and up</td>\n",
       "    </tr>\n",
       "    <tr>\n",
       "      <th>2</th>\n",
       "      <td>U Launcher Lite – FREE Live Cool Themes, Hide ...</td>\n",
       "      <td>ART_AND_DESIGN</td>\n",
       "      <td>4.7</td>\n",
       "      <td>87510</td>\n",
       "      <td>8.7M</td>\n",
       "      <td>5,000,000+</td>\n",
       "      <td>Free</td>\n",
       "      <td>0</td>\n",
       "      <td>Everyone</td>\n",
       "      <td>Art &amp; Design</td>\n",
       "      <td>August 1, 2018</td>\n",
       "      <td>1.2.4</td>\n",
       "      <td>4.0.3 and up</td>\n",
       "    </tr>\n",
       "    <tr>\n",
       "      <th>3</th>\n",
       "      <td>Sketch - Draw &amp; Paint</td>\n",
       "      <td>ART_AND_DESIGN</td>\n",
       "      <td>4.5</td>\n",
       "      <td>215644</td>\n",
       "      <td>25M</td>\n",
       "      <td>50,000,000+</td>\n",
       "      <td>Free</td>\n",
       "      <td>0</td>\n",
       "      <td>Teen</td>\n",
       "      <td>Art &amp; Design</td>\n",
       "      <td>June 8, 2018</td>\n",
       "      <td>Varies with device</td>\n",
       "      <td>4.2 and up</td>\n",
       "    </tr>\n",
       "    <tr>\n",
       "      <th>4</th>\n",
       "      <td>Pixel Draw - Number Art Coloring Book</td>\n",
       "      <td>ART_AND_DESIGN</td>\n",
       "      <td>4.3</td>\n",
       "      <td>967</td>\n",
       "      <td>2.8M</td>\n",
       "      <td>100,000+</td>\n",
       "      <td>Free</td>\n",
       "      <td>0</td>\n",
       "      <td>Everyone</td>\n",
       "      <td>Art &amp; Design;Creativity</td>\n",
       "      <td>June 20, 2018</td>\n",
       "      <td>1.1</td>\n",
       "      <td>4.4 and up</td>\n",
       "    </tr>\n",
       "  </tbody>\n",
       "</table>\n",
       "</div>"
      ],
      "text/plain": [
       "                                                 App        Category  Rating  \\\n",
       "0     Photo Editor & Candy Camera & Grid & ScrapBook  ART_AND_DESIGN     4.1   \n",
       "1                                Coloring book moana  ART_AND_DESIGN     3.9   \n",
       "2  U Launcher Lite – FREE Live Cool Themes, Hide ...  ART_AND_DESIGN     4.7   \n",
       "3                              Sketch - Draw & Paint  ART_AND_DESIGN     4.5   \n",
       "4              Pixel Draw - Number Art Coloring Book  ART_AND_DESIGN     4.3   \n",
       "\n",
       "  Reviews  Size     Installs  Type Price Content Rating  \\\n",
       "0     159   19M      10,000+  Free     0       Everyone   \n",
       "1     967   14M     500,000+  Free     0       Everyone   \n",
       "2   87510  8.7M   5,000,000+  Free     0       Everyone   \n",
       "3  215644   25M  50,000,000+  Free     0           Teen   \n",
       "4     967  2.8M     100,000+  Free     0       Everyone   \n",
       "\n",
       "                      Genres      Last Updated         Current Ver  \\\n",
       "0               Art & Design   January 7, 2018               1.0.0   \n",
       "1  Art & Design;Pretend Play  January 15, 2018               2.0.0   \n",
       "2               Art & Design    August 1, 2018               1.2.4   \n",
       "3               Art & Design      June 8, 2018  Varies with device   \n",
       "4    Art & Design;Creativity     June 20, 2018                 1.1   \n",
       "\n",
       "    Android Ver  \n",
       "0  4.0.3 and up  \n",
       "1  4.0.3 and up  \n",
       "2  4.0.3 and up  \n",
       "3    4.2 and up  \n",
       "4    4.4 and up  "
      ]
     },
     "execution_count": 2,
     "metadata": {},
     "output_type": "execute_result"
    }
   ],
   "source": [
    "#loading dataset\n",
    "df = pd.read_csv(r'D:\\Purity\\ML_Zoomcamp\\midterm project dataset\\googleplaystore.csv')\n",
    "print(df.shape) #getting the shape\n",
    "df.head() #reading first five rows"
   ]
  },
  {
   "cell_type": "markdown",
   "metadata": {},
   "source": [
    "Data Cleaning"
   ]
  },
  {
   "cell_type": "code",
   "execution_count": 3,
   "metadata": {},
   "outputs": [
    {
     "data": {
      "text/html": [
       "<div>\n",
       "<style scoped>\n",
       "    .dataframe tbody tr th:only-of-type {\n",
       "        vertical-align: middle;\n",
       "    }\n",
       "\n",
       "    .dataframe tbody tr th {\n",
       "        vertical-align: top;\n",
       "    }\n",
       "\n",
       "    .dataframe thead th {\n",
       "        text-align: right;\n",
       "    }\n",
       "</style>\n",
       "<table border=\"1\" class=\"dataframe\">\n",
       "  <thead>\n",
       "    <tr style=\"text-align: right;\">\n",
       "      <th></th>\n",
       "      <th>app</th>\n",
       "      <th>category</th>\n",
       "      <th>rating</th>\n",
       "      <th>reviews</th>\n",
       "      <th>size</th>\n",
       "      <th>installs</th>\n",
       "      <th>type</th>\n",
       "      <th>price</th>\n",
       "      <th>content_rating</th>\n",
       "      <th>genres</th>\n",
       "      <th>last_updated</th>\n",
       "      <th>current_ver</th>\n",
       "      <th>android_ver</th>\n",
       "    </tr>\n",
       "  </thead>\n",
       "  <tbody>\n",
       "    <tr>\n",
       "      <th>0</th>\n",
       "      <td>Photo Editor &amp; Candy Camera &amp; Grid &amp; ScrapBook</td>\n",
       "      <td>ART_AND_DESIGN</td>\n",
       "      <td>4.1</td>\n",
       "      <td>159</td>\n",
       "      <td>19M</td>\n",
       "      <td>10,000+</td>\n",
       "      <td>Free</td>\n",
       "      <td>0</td>\n",
       "      <td>Everyone</td>\n",
       "      <td>Art &amp; Design</td>\n",
       "      <td>January 7, 2018</td>\n",
       "      <td>1.0.0</td>\n",
       "      <td>4.0.3 and up</td>\n",
       "    </tr>\n",
       "    <tr>\n",
       "      <th>1</th>\n",
       "      <td>Coloring book moana</td>\n",
       "      <td>ART_AND_DESIGN</td>\n",
       "      <td>3.9</td>\n",
       "      <td>967</td>\n",
       "      <td>14M</td>\n",
       "      <td>500,000+</td>\n",
       "      <td>Free</td>\n",
       "      <td>0</td>\n",
       "      <td>Everyone</td>\n",
       "      <td>Art &amp; Design;Pretend Play</td>\n",
       "      <td>January 15, 2018</td>\n",
       "      <td>2.0.0</td>\n",
       "      <td>4.0.3 and up</td>\n",
       "    </tr>\n",
       "    <tr>\n",
       "      <th>2</th>\n",
       "      <td>U Launcher Lite – FREE Live Cool Themes, Hide ...</td>\n",
       "      <td>ART_AND_DESIGN</td>\n",
       "      <td>4.7</td>\n",
       "      <td>87510</td>\n",
       "      <td>8.7M</td>\n",
       "      <td>5,000,000+</td>\n",
       "      <td>Free</td>\n",
       "      <td>0</td>\n",
       "      <td>Everyone</td>\n",
       "      <td>Art &amp; Design</td>\n",
       "      <td>August 1, 2018</td>\n",
       "      <td>1.2.4</td>\n",
       "      <td>4.0.3 and up</td>\n",
       "    </tr>\n",
       "    <tr>\n",
       "      <th>3</th>\n",
       "      <td>Sketch - Draw &amp; Paint</td>\n",
       "      <td>ART_AND_DESIGN</td>\n",
       "      <td>4.5</td>\n",
       "      <td>215644</td>\n",
       "      <td>25M</td>\n",
       "      <td>50,000,000+</td>\n",
       "      <td>Free</td>\n",
       "      <td>0</td>\n",
       "      <td>Teen</td>\n",
       "      <td>Art &amp; Design</td>\n",
       "      <td>June 8, 2018</td>\n",
       "      <td>Varies with device</td>\n",
       "      <td>4.2 and up</td>\n",
       "    </tr>\n",
       "    <tr>\n",
       "      <th>4</th>\n",
       "      <td>Pixel Draw - Number Art Coloring Book</td>\n",
       "      <td>ART_AND_DESIGN</td>\n",
       "      <td>4.3</td>\n",
       "      <td>967</td>\n",
       "      <td>2.8M</td>\n",
       "      <td>100,000+</td>\n",
       "      <td>Free</td>\n",
       "      <td>0</td>\n",
       "      <td>Everyone</td>\n",
       "      <td>Art &amp; Design;Creativity</td>\n",
       "      <td>June 20, 2018</td>\n",
       "      <td>1.1</td>\n",
       "      <td>4.4 and up</td>\n",
       "    </tr>\n",
       "  </tbody>\n",
       "</table>\n",
       "</div>"
      ],
      "text/plain": [
       "                                                 app        category  rating  \\\n",
       "0     Photo Editor & Candy Camera & Grid & ScrapBook  ART_AND_DESIGN     4.1   \n",
       "1                                Coloring book moana  ART_AND_DESIGN     3.9   \n",
       "2  U Launcher Lite – FREE Live Cool Themes, Hide ...  ART_AND_DESIGN     4.7   \n",
       "3                              Sketch - Draw & Paint  ART_AND_DESIGN     4.5   \n",
       "4              Pixel Draw - Number Art Coloring Book  ART_AND_DESIGN     4.3   \n",
       "\n",
       "  reviews  size     installs  type price content_rating  \\\n",
       "0     159   19M      10,000+  Free     0       Everyone   \n",
       "1     967   14M     500,000+  Free     0       Everyone   \n",
       "2   87510  8.7M   5,000,000+  Free     0       Everyone   \n",
       "3  215644   25M  50,000,000+  Free     0           Teen   \n",
       "4     967  2.8M     100,000+  Free     0       Everyone   \n",
       "\n",
       "                      genres      last_updated         current_ver  \\\n",
       "0               Art & Design   January 7, 2018               1.0.0   \n",
       "1  Art & Design;Pretend Play  January 15, 2018               2.0.0   \n",
       "2               Art & Design    August 1, 2018               1.2.4   \n",
       "3               Art & Design      June 8, 2018  Varies with device   \n",
       "4    Art & Design;Creativity     June 20, 2018                 1.1   \n",
       "\n",
       "    android_ver  \n",
       "0  4.0.3 and up  \n",
       "1  4.0.3 and up  \n",
       "2  4.0.3 and up  \n",
       "3    4.2 and up  \n",
       "4    4.4 and up  "
      ]
     },
     "execution_count": 3,
     "metadata": {},
     "output_type": "execute_result"
    }
   ],
   "source": [
    "#setting columns to lower case\n",
    "df.columns = df.columns.str.lower() \n",
    "#replacing space with _\n",
    "df.columns= df.columns.str.replace(' ', '_')\n",
    "df.head()"
   ]
  },
  {
   "cell_type": "code",
   "execution_count": 4,
   "metadata": {},
   "outputs": [
    {
     "name": "stdout",
     "output_type": "stream",
     "text": [
      "(9660,)\n",
      "9660\n"
     ]
    }
   ],
   "source": [
    "#checking for duplicates\n",
    "print(df.app.unique().shape)\n",
    "print(df.app.nunique())"
   ]
  },
  {
   "cell_type": "code",
   "execution_count": 5,
   "metadata": {},
   "outputs": [
    {
     "name": "stdout",
     "output_type": "stream",
     "text": [
      "(9660, 13)\n"
     ]
    }
   ],
   "source": [
    "#dropping duplicates\n",
    "df.drop_duplicates(subset= 'app', inplace=True)\n",
    "print(df.shape)"
   ]
  },
  {
   "cell_type": "code",
   "execution_count": 6,
   "metadata": {},
   "outputs": [
    {
     "data": {
      "text/plain": [
       "app                object\n",
       "category           object\n",
       "rating            float64\n",
       "reviews            object\n",
       "size               object\n",
       "installs           object\n",
       "type               object\n",
       "price              object\n",
       "content_rating     object\n",
       "genres             object\n",
       "last_updated       object\n",
       "current_ver        object\n",
       "android_ver        object\n",
       "dtype: object"
      ]
     },
     "execution_count": 6,
     "metadata": {},
     "output_type": "execute_result"
    }
   ],
   "source": [
    "#checking variable types\n",
    "df.dtypes"
   ]
  },
  {
   "cell_type": "code",
   "execution_count": 7,
   "metadata": {},
   "outputs": [
    {
     "data": {
      "text/plain": [
       "app               9660\n",
       "category            34\n",
       "rating              40\n",
       "reviews           5331\n",
       "size               462\n",
       "installs            22\n",
       "type                 3\n",
       "price               93\n",
       "content_rating       6\n",
       "genres             119\n",
       "last_updated      1378\n",
       "current_ver       2818\n",
       "android_ver         33\n",
       "dtype: int64"
      ]
     },
     "execution_count": 7,
     "metadata": {},
     "output_type": "execute_result"
    }
   ],
   "source": [
    "#getting number of uniques for each column\n",
    "df.nunique()"
   ]
  },
  {
   "cell_type": "markdown",
   "metadata": {},
   "source": [
    "Dealing with missing values"
   ]
  },
  {
   "cell_type": "code",
   "execution_count": 8,
   "metadata": {},
   "outputs": [
    {
     "data": {
      "text/plain": [
       "app                  0\n",
       "category             0\n",
       "rating            1463\n",
       "reviews              0\n",
       "size                 0\n",
       "installs             0\n",
       "type                 1\n",
       "price                0\n",
       "content_rating       1\n",
       "genres               0\n",
       "last_updated         0\n",
       "current_ver          8\n",
       "android_ver          3\n",
       "dtype: int64"
      ]
     },
     "execution_count": 8,
     "metadata": {},
     "output_type": "execute_result"
    }
   ],
   "source": [
    "#checking for missing values\n",
    "df.isnull().sum()"
   ]
  },
  {
   "cell_type": "code",
   "execution_count": 9,
   "metadata": {},
   "outputs": [
    {
     "data": {
      "image/png": "[encoded data removed]",
      "text/plain": [
       "<Figure size 648x720 with 1 Axes>"
      ]
     },
     "metadata": {
      "needs_background": "light"
     },
     "output_type": "display_data"
    }
   ],
   "source": [
    "# plotting missing values \n",
    "ax = df.isna().sum().sort_values().plot(kind = 'barh', figsize = (9, 10))\n",
    "plt.title('Percentage of Missing Values Per Column in Train Set', fontdict={'size':15})\n",
    "for p in ax.patches:\n",
    "    percentage ='{:,.0f}%'.format((p.get_width()/df.shape[0])*100)\n",
    "    width, height =p.get_width(),p.get_height()\n",
    "    x=p.get_x()+width+0.02\n",
    "    y=p.get_y()+height/2\n",
    "    ax.annotate(percentage,(x,y))"
   ]
  },
  {
   "cell_type": "code",
   "execution_count": 10,
   "metadata": {},
   "outputs": [],
   "source": [
    "#filling the missing values for column 'rating' with mean\n",
    "df['rating'] = df['rating'].fillna(df['rating'].mean())"
   ]
  },
  {
   "cell_type": "code",
   "execution_count": 11,
   "metadata": {},
   "outputs": [
    {
     "data": {
      "text/plain": [
       "app               0\n",
       "category          0\n",
       "rating            0\n",
       "reviews           0\n",
       "size              0\n",
       "installs          0\n",
       "type              1\n",
       "price             0\n",
       "content_rating    1\n",
       "genres            0\n",
       "last_updated      0\n",
       "current_ver       8\n",
       "android_ver       3\n",
       "dtype: int64"
      ]
     },
     "execution_count": 11,
     "metadata": {},
     "output_type": "execute_result"
    }
   ],
   "source": [
    "df.isnull().sum()"
   ]
  },
  {
   "cell_type": "code",
   "execution_count": 12,
   "metadata": {},
   "outputs": [
    {
     "data": {
      "text/plain": [
       "app               0\n",
       "category          0\n",
       "rating            0\n",
       "reviews           0\n",
       "size              0\n",
       "installs          0\n",
       "type              0\n",
       "price             0\n",
       "content_rating    0\n",
       "genres            0\n",
       "last_updated      0\n",
       "current_ver       0\n",
       "android_ver       0\n",
       "dtype: int64"
      ]
     },
     "execution_count": 12,
     "metadata": {},
     "output_type": "execute_result"
    }
   ],
   "source": [
    "#dropping missing values for the rest of the columns\n",
    "df.dropna(inplace=True)\n",
    "df.isnull().sum()"
   ]
  },
  {
   "cell_type": "markdown",
   "metadata": {},
   "source": [
    "Value counts"
   ]
  },
  {
   "cell_type": "code",
   "execution_count": 13,
   "metadata": {},
   "outputs": [
    {
     "name": "stdout",
     "output_type": "stream",
     "text": [
      "12\n"
     ]
    }
   ],
   "source": [
    "#creating list for categorical columns\n",
    "cat_cols = list(df.select_dtypes(['object']).columns)\n",
    "print(len(cat_cols))"
   ]
  },
  {
   "cell_type": "code",
   "execution_count": 14,
   "metadata": {},
   "outputs": [
    {
     "name": "stdout",
     "output_type": "stream",
     "text": [
      "app\n",
      "Snapchat                                           1\n",
      "BS Play                                            1\n",
      "IF YOU TO EU PEGO                                  1\n",
      "Share Music & Transfer Files - Xender              1\n",
      "BU HANGİ ŞARKI ? - 2018                            1\n",
      "                                                  ..\n",
      "QR Droid                                           1\n",
      "Marathi DP - status and message,jokes,Video app    1\n",
      "CS Customizer                                      1\n",
      "Age Calculator                                     1\n",
      "Wheretoget: Shop in style                          1\n",
      "Name: app, Length: 9648, dtype: int64\n",
      "\n",
      "\n",
      "category\n",
      "FAMILY                 1828\n",
      "GAME                    959\n",
      "TOOLS                   825\n",
      "BUSINESS                420\n",
      "MEDICAL                 395\n",
      "PERSONALIZATION         374\n",
      "PRODUCTIVITY            374\n",
      "LIFESTYLE               369\n",
      "FINANCE                 345\n",
      "SPORTS                  325\n",
      "COMMUNICATION           315\n",
      "HEALTH_AND_FITNESS      288\n",
      "PHOTOGRAPHY             281\n",
      "NEWS_AND_MAGAZINES      254\n",
      "SOCIAL                  239\n",
      "BOOKS_AND_REFERENCE     221\n",
      "TRAVEL_AND_LOCAL        219\n",
      "SHOPPING                202\n",
      "DATING                  171\n",
      "VIDEO_PLAYERS           163\n",
      "MAPS_AND_NAVIGATION     131\n",
      "EDUCATION               119\n",
      "FOOD_AND_DRINK          112\n",
      "ENTERTAINMENT           102\n",
      "AUTO_AND_VEHICLES        85\n",
      "LIBRARIES_AND_DEMO       83\n",
      "WEATHER                  79\n",
      "HOUSE_AND_HOME           74\n",
      "EVENTS                   64\n",
      "ART_AND_DESIGN           63\n",
      "PARENTING                60\n",
      "COMICS                   56\n",
      "BEAUTY                   53\n",
      "Name: category, dtype: int64\n",
      "\n",
      "\n",
      "reviews\n",
      "0          591\n",
      "1          271\n",
      "2          213\n",
      "3          170\n",
      "4          137\n",
      "          ... \n",
      "7583         1\n",
      "65590        1\n",
      "1162837      1\n",
      "18513        1\n",
      "2576         1\n",
      "Name: reviews, Length: 5328, dtype: int64\n",
      "\n",
      "\n",
      "size\n",
      "Varies with device    1226\n",
      "11M                    181\n",
      "12M                    181\n",
      "13M                    177\n",
      "14M                    176\n",
      "                      ... \n",
      "696k                     1\n",
      "691k                     1\n",
      "562k                     1\n",
      "373k                     1\n",
      "552k                     1\n",
      "Name: size, Length: 457, dtype: int64\n",
      "\n",
      "\n",
      "installs\n",
      "1,000,000+        1416\n",
      "100,000+          1112\n",
      "10,000+           1029\n",
      "10,000,000+        937\n",
      "1,000+             886\n",
      "100+               709\n",
      "5,000,000+         607\n",
      "500,000+           504\n",
      "50,000+            468\n",
      "5,000+             467\n",
      "10+                384\n",
      "500+               328\n",
      "50+                204\n",
      "50,000,000+        202\n",
      "100,000,000+       188\n",
      "5+                  82\n",
      "1+                  67\n",
      "500,000,000+        24\n",
      "1,000,000,000+      20\n",
      "0+                  14\n",
      "Name: installs, dtype: int64\n",
      "\n",
      "\n",
      "type\n",
      "Free    8895\n",
      "Paid     753\n",
      "Name: type, dtype: int64\n",
      "\n",
      "\n",
      "price\n",
      "0          8895\n",
      "$0.99       143\n",
      "$2.99       124\n",
      "$1.99        73\n",
      "$4.99        70\n",
      "           ... \n",
      "$25.99        1\n",
      "$19.90        1\n",
      "$1.29         1\n",
      "$379.99       1\n",
      "$1.26         1\n",
      "Name: price, Length: 92, dtype: int64\n",
      "\n",
      "\n",
      "content_rating\n",
      "Everyone           7893\n",
      "Teen               1036\n",
      "Mature 17+          393\n",
      "Everyone 10+        321\n",
      "Adults only 18+       3\n",
      "Unrated               2\n",
      "Name: content_rating, dtype: int64\n",
      "\n",
      "\n",
      "genres\n",
      "Tools                                824\n",
      "Entertainment                        560\n",
      "Education                            509\n",
      "Business                             420\n",
      "Medical                              395\n",
      "                                    ... \n",
      "Travel & Local;Action & Adventure      1\n",
      "Trivia;Education                       1\n",
      "Lifestyle;Pretend Play                 1\n",
      "Strategy;Education                     1\n",
      "Puzzle;Education                       1\n",
      "Name: genres, Length: 118, dtype: int64\n",
      "\n",
      "\n",
      "last_updated\n",
      "August 3, 2018     252\n",
      "August 2, 2018     230\n",
      "August 1, 2018     209\n",
      "July 31, 2018      204\n",
      "July 30, 2018      160\n",
      "                  ... \n",
      "January 2, 2017      1\n",
      "April 23, 2014       1\n",
      "August 9, 2013       1\n",
      "October 2, 2015      1\n",
      "March 29, 2016       1\n",
      "Name: last_updated, Length: 1376, dtype: int64\n",
      "\n",
      "\n",
      "current_ver\n",
      "Varies with device    1054\n",
      "1.0                    799\n",
      "1.1                    259\n",
      "1.2                    176\n",
      "2.0                    149\n",
      "                      ... \n",
      "3.550.2                  1\n",
      "1.1.9371                 1\n",
      "1.0.612928               1\n",
      "3.2.473.202              1\n",
      "106                      1\n",
      "Name: current_ver, Length: 2817, dtype: int64\n",
      "\n",
      "\n",
      "android_ver\n",
      "4.1 and up            2202\n",
      "4.0.3 and up          1395\n",
      "4.0 and up            1283\n",
      "Varies with device     989\n",
      "4.4 and up             818\n",
      "2.3 and up             615\n",
      "5.0 and up             512\n",
      "4.2 and up             371\n",
      "2.3.3 and up           273\n",
      "2.2 and up             239\n",
      "3.0 and up             230\n",
      "4.3 and up             221\n",
      "2.1 and up             133\n",
      "1.6 and up             115\n",
      "6.0 and up              54\n",
      "7.0 and up              42\n",
      "3.2 and up              36\n",
      "2.0 and up              31\n",
      "5.1 and up              22\n",
      "1.5 and up              19\n",
      "4.4W and up             11\n",
      "3.1 and up              10\n",
      "2.0.1 and up             7\n",
      "8.0 and up               6\n",
      "7.1 and up               3\n",
      "5.0 - 8.0                2\n",
      "1.0 and up               2\n",
      "4.0.3 - 7.1.1            2\n",
      "7.0 - 7.1.1              1\n",
      "2.2 - 7.1.1              1\n",
      "5.0 - 7.1.1              1\n",
      "4.1 - 7.1.1              1\n",
      "5.0 - 6.0                1\n",
      "Name: android_ver, dtype: int64\n",
      "\n",
      "\n"
     ]
    }
   ],
   "source": [
    "# value_counts for categorical columns\n",
    "for col in cat_cols:\n",
    "    print(col)\n",
    "    print(df[col].value_counts())\n",
    "    print('\\n')"
   ]
  },
  {
   "cell_type": "markdown",
   "metadata": {},
   "source": [
    "Converting price and reviews to numerical columns"
   ]
  },
  {
   "cell_type": "code",
   "execution_count": 15,
   "metadata": {},
   "outputs": [],
   "source": [
    "#removing $ character from price\n",
    "value_list = []\n",
    "col_list = list(df['price'].values)\n",
    "for val in col_list:\n",
    "    val = val.replace('$','')\n",
    "    value_list.append(val)\n",
    "df['price'] = value_list"
   ]
  },
  {
   "cell_type": "code",
   "execution_count": 16,
   "metadata": {},
   "outputs": [
    {
     "data": {
      "text/plain": [
       "app                object\n",
       "category           object\n",
       "rating            float64\n",
       "reviews           float64\n",
       "size               object\n",
       "installs           object\n",
       "type               object\n",
       "price             float64\n",
       "content_rating     object\n",
       "genres             object\n",
       "last_updated       object\n",
       "current_ver        object\n",
       "android_ver        object\n",
       "dtype: object"
      ]
     },
     "execution_count": 16,
     "metadata": {},
     "output_type": "execute_result"
    }
   ],
   "source": [
    "#converting reviews and price to float\n",
    "for col in ['reviews',  'price']:\n",
    "    value_list = []\n",
    "    col_list = list(df[col].values)\n",
    "    for val in col_list:\n",
    "        val = float(val)\n",
    "        value_list.append(val)\n",
    "    df[col] = value_list\n",
    "df.dtypes"
   ]
  },
  {
   "cell_type": "markdown",
   "metadata": {},
   "source": [
    "Creating a datetime column  and extracting features"
   ]
  },
  {
   "cell_type": "code",
   "execution_count": 17,
   "metadata": {},
   "outputs": [
    {
     "data": {
      "text/html": [
       "<div>\n",
       "<style scoped>\n",
       "    .dataframe tbody tr th:only-of-type {\n",
       "        vertical-align: middle;\n",
       "    }\n",
       "\n",
       "    .dataframe tbody tr th {\n",
       "        vertical-align: top;\n",
       "    }\n",
       "\n",
       "    .dataframe thead th {\n",
       "        text-align: right;\n",
       "    }\n",
       "</style>\n",
       "<table border=\"1\" class=\"dataframe\">\n",
       "  <thead>\n",
       "    <tr style=\"text-align: right;\">\n",
       "      <th></th>\n",
       "      <th>app</th>\n",
       "      <th>category</th>\n",
       "      <th>rating</th>\n",
       "      <th>reviews</th>\n",
       "      <th>size</th>\n",
       "      <th>installs</th>\n",
       "      <th>type</th>\n",
       "      <th>price</th>\n",
       "      <th>content_rating</th>\n",
       "      <th>genres</th>\n",
       "      <th>last_updated</th>\n",
       "      <th>current_ver</th>\n",
       "      <th>android_ver</th>\n",
       "      <th>update_date</th>\n",
       "    </tr>\n",
       "  </thead>\n",
       "  <tbody>\n",
       "    <tr>\n",
       "      <th>0</th>\n",
       "      <td>Photo Editor &amp; Candy Camera &amp; Grid &amp; ScrapBook</td>\n",
       "      <td>ART_AND_DESIGN</td>\n",
       "      <td>4.1</td>\n",
       "      <td>159.0</td>\n",
       "      <td>19M</td>\n",
       "      <td>10,000+</td>\n",
       "      <td>Free</td>\n",
       "      <td>0.0</td>\n",
       "      <td>Everyone</td>\n",
       "      <td>Art &amp; Design</td>\n",
       "      <td>January 7, 2018</td>\n",
       "      <td>1.0.0</td>\n",
       "      <td>4.0.3 and up</td>\n",
       "      <td>2018-01-07</td>\n",
       "    </tr>\n",
       "    <tr>\n",
       "      <th>1</th>\n",
       "      <td>Coloring book moana</td>\n",
       "      <td>ART_AND_DESIGN</td>\n",
       "      <td>3.9</td>\n",
       "      <td>967.0</td>\n",
       "      <td>14M</td>\n",
       "      <td>500,000+</td>\n",
       "      <td>Free</td>\n",
       "      <td>0.0</td>\n",
       "      <td>Everyone</td>\n",
       "      <td>Art &amp; Design;Pretend Play</td>\n",
       "      <td>January 15, 2018</td>\n",
       "      <td>2.0.0</td>\n",
       "      <td>4.0.3 and up</td>\n",
       "      <td>2018-01-15</td>\n",
       "    </tr>\n",
       "    <tr>\n",
       "      <th>2</th>\n",
       "      <td>U Launcher Lite – FREE Live Cool Themes, Hide ...</td>\n",
       "      <td>ART_AND_DESIGN</td>\n",
       "      <td>4.7</td>\n",
       "      <td>87510.0</td>\n",
       "      <td>8.7M</td>\n",
       "      <td>5,000,000+</td>\n",
       "      <td>Free</td>\n",
       "      <td>0.0</td>\n",
       "      <td>Everyone</td>\n",
       "      <td>Art &amp; Design</td>\n",
       "      <td>August 1, 2018</td>\n",
       "      <td>1.2.4</td>\n",
       "      <td>4.0.3 and up</td>\n",
       "      <td>2018-08-01</td>\n",
       "    </tr>\n",
       "    <tr>\n",
       "      <th>3</th>\n",
       "      <td>Sketch - Draw &amp; Paint</td>\n",
       "      <td>ART_AND_DESIGN</td>\n",
       "      <td>4.5</td>\n",
       "      <td>215644.0</td>\n",
       "      <td>25M</td>\n",
       "      <td>50,000,000+</td>\n",
       "      <td>Free</td>\n",
       "      <td>0.0</td>\n",
       "      <td>Teen</td>\n",
       "      <td>Art &amp; Design</td>\n",
       "      <td>June 8, 2018</td>\n",
       "      <td>Varies with device</td>\n",
       "      <td>4.2 and up</td>\n",
       "      <td>2018-06-08</td>\n",
       "    </tr>\n",
       "    <tr>\n",
       "      <th>4</th>\n",
       "      <td>Pixel Draw - Number Art Coloring Book</td>\n",
       "      <td>ART_AND_DESIGN</td>\n",
       "      <td>4.3</td>\n",
       "      <td>967.0</td>\n",
       "      <td>2.8M</td>\n",
       "      <td>100,000+</td>\n",
       "      <td>Free</td>\n",
       "      <td>0.0</td>\n",
       "      <td>Everyone</td>\n",
       "      <td>Art &amp; Design;Creativity</td>\n",
       "      <td>June 20, 2018</td>\n",
       "      <td>1.1</td>\n",
       "      <td>4.4 and up</td>\n",
       "      <td>2018-06-20</td>\n",
       "    </tr>\n",
       "  </tbody>\n",
       "</table>\n",
       "</div>"
      ],
      "text/plain": [
       "                                                 app        category  rating  \\\n",
       "0     Photo Editor & Candy Camera & Grid & ScrapBook  ART_AND_DESIGN     4.1   \n",
       "1                                Coloring book moana  ART_AND_DESIGN     3.9   \n",
       "2  U Launcher Lite – FREE Live Cool Themes, Hide ...  ART_AND_DESIGN     4.7   \n",
       "3                              Sketch - Draw & Paint  ART_AND_DESIGN     4.5   \n",
       "4              Pixel Draw - Number Art Coloring Book  ART_AND_DESIGN     4.3   \n",
       "\n",
       "    reviews  size     installs  type  price content_rating  \\\n",
       "0     159.0   19M      10,000+  Free    0.0       Everyone   \n",
       "1     967.0   14M     500,000+  Free    0.0       Everyone   \n",
       "2   87510.0  8.7M   5,000,000+  Free    0.0       Everyone   \n",
       "3  215644.0   25M  50,000,000+  Free    0.0           Teen   \n",
       "4     967.0  2.8M     100,000+  Free    0.0       Everyone   \n",
       "\n",
       "                      genres      last_updated         current_ver  \\\n",
       "0               Art & Design   January 7, 2018               1.0.0   \n",
       "1  Art & Design;Pretend Play  January 15, 2018               2.0.0   \n",
       "2               Art & Design    August 1, 2018               1.2.4   \n",
       "3               Art & Design      June 8, 2018  Varies with device   \n",
       "4    Art & Design;Creativity     June 20, 2018                 1.1   \n",
       "\n",
       "    android_ver update_date  \n",
       "0  4.0.3 and up  2018-01-07  \n",
       "1  4.0.3 and up  2018-01-15  \n",
       "2  4.0.3 and up  2018-08-01  \n",
       "3    4.2 and up  2018-06-08  \n",
       "4    4.4 and up  2018-06-20  "
      ]
     },
     "execution_count": 17,
     "metadata": {},
     "output_type": "execute_result"
    }
   ],
   "source": [
    "#creating a column for datetime from the last updated column\n",
    "from datetime import datetime\n",
    "dates = []\n",
    "date_list = list(df['last_updated'].values)\n",
    "for date in date_list:\n",
    "    date_object = datetime.strptime(date, \"%B %d, %Y\")#converting string to python datetime\n",
    "    dates.append(date_object)\n",
    "df['update_date'] = dates\n",
    "df.head()"
   ]
  },
  {
   "cell_type": "code",
   "execution_count": 18,
   "metadata": {},
   "outputs": [
    {
     "data": {
      "text/html": [
       "<div>\n",
       "<style scoped>\n",
       "    .dataframe tbody tr th:only-of-type {\n",
       "        vertical-align: middle;\n",
       "    }\n",
       "\n",
       "    .dataframe tbody tr th {\n",
       "        vertical-align: top;\n",
       "    }\n",
       "\n",
       "    .dataframe thead th {\n",
       "        text-align: right;\n",
       "    }\n",
       "</style>\n",
       "<table border=\"1\" class=\"dataframe\">\n",
       "  <thead>\n",
       "    <tr style=\"text-align: right;\">\n",
       "      <th></th>\n",
       "      <th>app</th>\n",
       "      <th>category</th>\n",
       "      <th>rating</th>\n",
       "      <th>reviews</th>\n",
       "      <th>size</th>\n",
       "      <th>installs</th>\n",
       "      <th>type</th>\n",
       "      <th>price</th>\n",
       "      <th>content_rating</th>\n",
       "      <th>genres</th>\n",
       "      <th>last_updated</th>\n",
       "      <th>current_ver</th>\n",
       "      <th>android_ver</th>\n",
       "      <th>update_date</th>\n",
       "      <th>year</th>\n",
       "      <th>quarter</th>\n",
       "      <th>month</th>\n",
       "    </tr>\n",
       "  </thead>\n",
       "  <tbody>\n",
       "    <tr>\n",
       "      <th>0</th>\n",
       "      <td>Photo Editor &amp; Candy Camera &amp; Grid &amp; ScrapBook</td>\n",
       "      <td>ART_AND_DESIGN</td>\n",
       "      <td>4.1</td>\n",
       "      <td>159.0</td>\n",
       "      <td>19M</td>\n",
       "      <td>10,000+</td>\n",
       "      <td>Free</td>\n",
       "      <td>0.0</td>\n",
       "      <td>Everyone</td>\n",
       "      <td>Art &amp; Design</td>\n",
       "      <td>January 7, 2018</td>\n",
       "      <td>1.0.0</td>\n",
       "      <td>4.0.3 and up</td>\n",
       "      <td>2018-01-07</td>\n",
       "      <td>2018</td>\n",
       "      <td>1</td>\n",
       "      <td>1</td>\n",
       "    </tr>\n",
       "    <tr>\n",
       "      <th>1</th>\n",
       "      <td>Coloring book moana</td>\n",
       "      <td>ART_AND_DESIGN</td>\n",
       "      <td>3.9</td>\n",
       "      <td>967.0</td>\n",
       "      <td>14M</td>\n",
       "      <td>500,000+</td>\n",
       "      <td>Free</td>\n",
       "      <td>0.0</td>\n",
       "      <td>Everyone</td>\n",
       "      <td>Art &amp; Design;Pretend Play</td>\n",
       "      <td>January 15, 2018</td>\n",
       "      <td>2.0.0</td>\n",
       "      <td>4.0.3 and up</td>\n",
       "      <td>2018-01-15</td>\n",
       "      <td>2018</td>\n",
       "      <td>1</td>\n",
       "      <td>1</td>\n",
       "    </tr>\n",
       "    <tr>\n",
       "      <th>2</th>\n",
       "      <td>U Launcher Lite – FREE Live Cool Themes, Hide ...</td>\n",
       "      <td>ART_AND_DESIGN</td>\n",
       "      <td>4.7</td>\n",
       "      <td>87510.0</td>\n",
       "      <td>8.7M</td>\n",
       "      <td>5,000,000+</td>\n",
       "      <td>Free</td>\n",
       "      <td>0.0</td>\n",
       "      <td>Everyone</td>\n",
       "      <td>Art &amp; Design</td>\n",
       "      <td>August 1, 2018</td>\n",
       "      <td>1.2.4</td>\n",
       "      <td>4.0.3 and up</td>\n",
       "      <td>2018-08-01</td>\n",
       "      <td>2018</td>\n",
       "      <td>3</td>\n",
       "      <td>8</td>\n",
       "    </tr>\n",
       "    <tr>\n",
       "      <th>3</th>\n",
       "      <td>Sketch - Draw &amp; Paint</td>\n",
       "      <td>ART_AND_DESIGN</td>\n",
       "      <td>4.5</td>\n",
       "      <td>215644.0</td>\n",
       "      <td>25M</td>\n",
       "      <td>50,000,000+</td>\n",
       "      <td>Free</td>\n",
       "      <td>0.0</td>\n",
       "      <td>Teen</td>\n",
       "      <td>Art &amp; Design</td>\n",
       "      <td>June 8, 2018</td>\n",
       "      <td>Varies with device</td>\n",
       "      <td>4.2 and up</td>\n",
       "      <td>2018-06-08</td>\n",
       "      <td>2018</td>\n",
       "      <td>2</td>\n",
       "      <td>6</td>\n",
       "    </tr>\n",
       "    <tr>\n",
       "      <th>4</th>\n",
       "      <td>Pixel Draw - Number Art Coloring Book</td>\n",
       "      <td>ART_AND_DESIGN</td>\n",
       "      <td>4.3</td>\n",
       "      <td>967.0</td>\n",
       "      <td>2.8M</td>\n",
       "      <td>100,000+</td>\n",
       "      <td>Free</td>\n",
       "      <td>0.0</td>\n",
       "      <td>Everyone</td>\n",
       "      <td>Art &amp; Design;Creativity</td>\n",
       "      <td>June 20, 2018</td>\n",
       "      <td>1.1</td>\n",
       "      <td>4.4 and up</td>\n",
       "      <td>2018-06-20</td>\n",
       "      <td>2018</td>\n",
       "      <td>2</td>\n",
       "      <td>6</td>\n",
       "    </tr>\n",
       "  </tbody>\n",
       "</table>\n",
       "</div>"
      ],
      "text/plain": [
       "                                                 app        category  rating  \\\n",
       "0     Photo Editor & Candy Camera & Grid & ScrapBook  ART_AND_DESIGN     4.1   \n",
       "1                                Coloring book moana  ART_AND_DESIGN     3.9   \n",
       "2  U Launcher Lite – FREE Live Cool Themes, Hide ...  ART_AND_DESIGN     4.7   \n",
       "3                              Sketch - Draw & Paint  ART_AND_DESIGN     4.5   \n",
       "4              Pixel Draw - Number Art Coloring Book  ART_AND_DESIGN     4.3   \n",
       "\n",
       "    reviews  size     installs  type  price content_rating  \\\n",
       "0     159.0   19M      10,000+  Free    0.0       Everyone   \n",
       "1     967.0   14M     500,000+  Free    0.0       Everyone   \n",
       "2   87510.0  8.7M   5,000,000+  Free    0.0       Everyone   \n",
       "3  215644.0   25M  50,000,000+  Free    0.0           Teen   \n",
       "4     967.0  2.8M     100,000+  Free    0.0       Everyone   \n",
       "\n",
       "                      genres      last_updated         current_ver  \\\n",
       "0               Art & Design   January 7, 2018               1.0.0   \n",
       "1  Art & Design;Pretend Play  January 15, 2018               2.0.0   \n",
       "2               Art & Design    August 1, 2018               1.2.4   \n",
       "3               Art & Design      June 8, 2018  Varies with device   \n",
       "4    Art & Design;Creativity     June 20, 2018                 1.1   \n",
       "\n",
       "    android_ver update_date  year  quarter  month  \n",
       "0  4.0.3 and up  2018-01-07  2018        1      1  \n",
       "1  4.0.3 and up  2018-01-15  2018        1      1  \n",
       "2  4.0.3 and up  2018-08-01  2018        3      8  \n",
       "3    4.2 and up  2018-06-08  2018        2      6  \n",
       "4    4.4 and up  2018-06-20  2018        2      6  "
      ]
     },
     "execution_count": 18,
     "metadata": {},
     "output_type": "execute_result"
    }
   ],
   "source": [
    "#extracting features from datetime column\n",
    "for date_feature in ['year', 'quarter', 'month']:\n",
    "    df[date_feature] = getattr(df['update_date'].dt, date_feature)\n",
    "df.head()"
   ]
  },
  {
   "cell_type": "code",
   "execution_count": 19,
   "metadata": {},
   "outputs": [
    {
     "data": {
      "text/plain": [
       "app                       object\n",
       "category                  object\n",
       "rating                   float64\n",
       "reviews                  float64\n",
       "size                      object\n",
       "installs                  object\n",
       "type                      object\n",
       "price                    float64\n",
       "content_rating            object\n",
       "genres                    object\n",
       "last_updated              object\n",
       "current_ver               object\n",
       "android_ver               object\n",
       "update_date       datetime64[ns]\n",
       "year                       int64\n",
       "quarter                    int64\n",
       "month                      int64\n",
       "dtype: object"
      ]
     },
     "execution_count": 19,
     "metadata": {},
     "output_type": "execute_result"
    }
   ],
   "source": [
    "df.dtypes"
   ]
  },
  {
   "cell_type": "code",
   "execution_count": 20,
   "metadata": {},
   "outputs": [],
   "source": [
    "#converting the variable types for date columns\n",
    "cols = ['year', 'quarter', 'month']\n",
    "for col in cols:\n",
    "    df[col] = df[col].astype('object')"
   ]
  },
  {
   "cell_type": "markdown",
   "metadata": {},
   "source": [
    "EDA"
   ]
  },
  {
   "cell_type": "markdown",
   "metadata": {},
   "source": [
    "Descriptive analytics"
   ]
  },
  {
   "cell_type": "code",
   "execution_count": 21,
   "metadata": {},
   "outputs": [],
   "source": [
    "#creating list for categorical columns and numerical columns\n",
    "cat_cols = ['category', 'size', 'installs', 'type', 'content_rating', 'genres',\n",
    "            'last_updated','current_ver','android_ver', 'year','quarter', 'month']\n",
    "num_cols = ['price', 'reviews']"
   ]
  },
  {
   "cell_type": "code",
   "execution_count": 22,
   "metadata": {},
   "outputs": [
    {
     "data": {
      "text/html": [
       "<div>\n",
       "<style scoped>\n",
       "    .dataframe tbody tr th:only-of-type {\n",
       "        vertical-align: middle;\n",
       "    }\n",
       "\n",
       "    .dataframe tbody tr th {\n",
       "        vertical-align: top;\n",
       "    }\n",
       "\n",
       "    .dataframe thead th {\n",
       "        text-align: right;\n",
       "    }\n",
       "</style>\n",
       "<table border=\"1\" class=\"dataframe\">\n",
       "  <thead>\n",
       "    <tr style=\"text-align: right;\">\n",
       "      <th></th>\n",
       "      <th>rating</th>\n",
       "      <th>reviews</th>\n",
       "      <th>price</th>\n",
       "    </tr>\n",
       "  </thead>\n",
       "  <tbody>\n",
       "    <tr>\n",
       "      <th>count</th>\n",
       "      <td>9648.000000</td>\n",
       "      <td>9.648000e+03</td>\n",
       "      <td>9648.000000</td>\n",
       "    </tr>\n",
       "    <tr>\n",
       "      <th>mean</th>\n",
       "      <td>4.173583</td>\n",
       "      <td>2.168369e+05</td>\n",
       "      <td>1.100193</td>\n",
       "    </tr>\n",
       "    <tr>\n",
       "      <th>std</th>\n",
       "      <td>0.494475</td>\n",
       "      <td>1.832349e+06</td>\n",
       "      <td>16.861727</td>\n",
       "    </tr>\n",
       "    <tr>\n",
       "      <th>min</th>\n",
       "      <td>1.000000</td>\n",
       "      <td>0.000000e+00</td>\n",
       "      <td>0.000000</td>\n",
       "    </tr>\n",
       "    <tr>\n",
       "      <th>25%</th>\n",
       "      <td>4.000000</td>\n",
       "      <td>2.500000e+01</td>\n",
       "      <td>0.000000</td>\n",
       "    </tr>\n",
       "    <tr>\n",
       "      <th>50%</th>\n",
       "      <td>4.200000</td>\n",
       "      <td>9.690000e+02</td>\n",
       "      <td>0.000000</td>\n",
       "    </tr>\n",
       "    <tr>\n",
       "      <th>75%</th>\n",
       "      <td>4.500000</td>\n",
       "      <td>2.944925e+04</td>\n",
       "      <td>0.000000</td>\n",
       "    </tr>\n",
       "    <tr>\n",
       "      <th>max</th>\n",
       "      <td>5.000000</td>\n",
       "      <td>7.815831e+07</td>\n",
       "      <td>400.000000</td>\n",
       "    </tr>\n",
       "  </tbody>\n",
       "</table>\n",
       "</div>"
      ],
      "text/plain": [
       "            rating       reviews        price\n",
       "count  9648.000000  9.648000e+03  9648.000000\n",
       "mean      4.173583  2.168369e+05     1.100193\n",
       "std       0.494475  1.832349e+06    16.861727\n",
       "min       1.000000  0.000000e+00     0.000000\n",
       "25%       4.000000  2.500000e+01     0.000000\n",
       "50%       4.200000  9.690000e+02     0.000000\n",
       "75%       4.500000  2.944925e+04     0.000000\n",
       "max       5.000000  7.815831e+07   400.000000"
      ]
     },
     "execution_count": 22,
     "metadata": {},
     "output_type": "execute_result"
    }
   ],
   "source": [
    "#summary of the numerical columns\n",
    "df.describe()"
   ]
  },
  {
   "cell_type": "code",
   "execution_count": 23,
   "metadata": {},
   "outputs": [
    {
     "data": {
      "text/plain": [
       "<AxesSubplot:xlabel='rating', ylabel='Count'>"
      ]
     },
     "execution_count": 23,
     "metadata": {},
     "output_type": "execute_result"
    },
    {
     "data": {
      "image/png": "[encoded data removed]",
      "text/plain": [
       "<Figure size 432x288 with 1 Axes>"
      ]
     },
     "metadata": {
      "needs_background": "light"
     },
     "output_type": "display_data"
    }
   ],
   "source": [
    "#histogram of target column\n",
    "sns.histplot(df.rating, bins=50)"
   ]
  },
  {
   "cell_type": "code",
   "execution_count": 24,
   "metadata": {},
   "outputs": [
    {
     "data": {
      "text/plain": [
       "<AxesSubplot:xlabel='reviews', ylabel='Count'>"
      ]
     },
     "execution_count": 24,
     "metadata": {},
     "output_type": "execute_result"
    },
    {
     "data": {
      "image/png": "[encoded data removed]",
      "text/plain": [
       "<Figure size 432x288 with 1 Axes>"
      ]
     },
     "metadata": {
      "needs_background": "light"
     },
     "output_type": "display_data"
    }
   ],
   "source": [
    "#histogram of reviews column\n",
    "sns.histplot(df.reviews, bins=50)"
   ]
  },
  {
   "cell_type": "code",
   "execution_count": 25,
   "metadata": {},
   "outputs": [
    {
     "data": {
      "text/plain": [
       "<AxesSubplot:xlabel='price', ylabel='Count'>"
      ]
     },
     "execution_count": 25,
     "metadata": {},
     "output_type": "execute_result"
    },
    {
     "data": {
      "image/png": "[encoded data removed]",
      "text/plain": [
       "<Figure size 432x288 with 1 Axes>"
      ]
     },
     "metadata": {
      "needs_background": "light"
     },
     "output_type": "display_data"
    }
   ],
   "source": [
    "#histogram of price column\n",
    "sns.histplot(df.price, bins=50)"
   ]
  },
  {
   "cell_type": "code",
   "execution_count": 26,
   "metadata": {},
   "outputs": [
    {
     "data": {
      "text/plain": [
       "<AxesSubplot:xlabel='rating', ylabel='Count'>"
      ]
     },
     "execution_count": 26,
     "metadata": {},
     "output_type": "execute_result"
    },
    {
     "data": {
      "image/png": "[encoded data removed]",
      "text/plain": [
       "<Figure size 432x288 with 1 Axes>"
      ]
     },
     "metadata": {
      "needs_background": "light"
     },
     "output_type": "display_data"
    }
   ],
   "source": [
    "#applying log to the ratings column\n",
    "rating_logs = np.log1p(df.rating)\n",
    "#ploting histogram of log rating\n",
    "sns.histplot(rating_logs, bins=50)"
   ]
  },
  {
   "cell_type": "code",
   "execution_count": 27,
   "metadata": {},
   "outputs": [
    {
     "data": {
      "text/html": [
       "<div>\n",
       "<style scoped>\n",
       "    .dataframe tbody tr th:only-of-type {\n",
       "        vertical-align: middle;\n",
       "    }\n",
       "\n",
       "    .dataframe tbody tr th {\n",
       "        vertical-align: top;\n",
       "    }\n",
       "\n",
       "    .dataframe thead th {\n",
       "        text-align: right;\n",
       "    }\n",
       "</style>\n",
       "<table border=\"1\" class=\"dataframe\">\n",
       "  <thead>\n",
       "    <tr style=\"text-align: right;\">\n",
       "      <th></th>\n",
       "      <th>app</th>\n",
       "      <th>category</th>\n",
       "      <th>rating</th>\n",
       "      <th>reviews</th>\n",
       "      <th>size</th>\n",
       "      <th>installs</th>\n",
       "      <th>type</th>\n",
       "      <th>price</th>\n",
       "      <th>content_rating</th>\n",
       "      <th>genres</th>\n",
       "      <th>last_updated</th>\n",
       "      <th>current_ver</th>\n",
       "      <th>android_ver</th>\n",
       "      <th>update_date</th>\n",
       "      <th>year</th>\n",
       "      <th>quarter</th>\n",
       "      <th>month</th>\n",
       "      <th>log_rating</th>\n",
       "    </tr>\n",
       "  </thead>\n",
       "  <tbody>\n",
       "    <tr>\n",
       "      <th>0</th>\n",
       "      <td>Photo Editor &amp; Candy Camera &amp; Grid &amp; ScrapBook</td>\n",
       "      <td>ART_AND_DESIGN</td>\n",
       "      <td>4.1</td>\n",
       "      <td>159.0</td>\n",
       "      <td>19M</td>\n",
       "      <td>10,000+</td>\n",
       "      <td>Free</td>\n",
       "      <td>0.0</td>\n",
       "      <td>Everyone</td>\n",
       "      <td>Art &amp; Design</td>\n",
       "      <td>January 7, 2018</td>\n",
       "      <td>1.0.0</td>\n",
       "      <td>4.0.3 and up</td>\n",
       "      <td>2018-01-07</td>\n",
       "      <td>2018</td>\n",
       "      <td>1</td>\n",
       "      <td>1</td>\n",
       "      <td>1.629241</td>\n",
       "    </tr>\n",
       "    <tr>\n",
       "      <th>1</th>\n",
       "      <td>Coloring book moana</td>\n",
       "      <td>ART_AND_DESIGN</td>\n",
       "      <td>3.9</td>\n",
       "      <td>967.0</td>\n",
       "      <td>14M</td>\n",
       "      <td>500,000+</td>\n",
       "      <td>Free</td>\n",
       "      <td>0.0</td>\n",
       "      <td>Everyone</td>\n",
       "      <td>Art &amp; Design;Pretend Play</td>\n",
       "      <td>January 15, 2018</td>\n",
       "      <td>2.0.0</td>\n",
       "      <td>4.0.3 and up</td>\n",
       "      <td>2018-01-15</td>\n",
       "      <td>2018</td>\n",
       "      <td>1</td>\n",
       "      <td>1</td>\n",
       "      <td>1.589235</td>\n",
       "    </tr>\n",
       "    <tr>\n",
       "      <th>2</th>\n",
       "      <td>U Launcher Lite – FREE Live Cool Themes, Hide ...</td>\n",
       "      <td>ART_AND_DESIGN</td>\n",
       "      <td>4.7</td>\n",
       "      <td>87510.0</td>\n",
       "      <td>8.7M</td>\n",
       "      <td>5,000,000+</td>\n",
       "      <td>Free</td>\n",
       "      <td>0.0</td>\n",
       "      <td>Everyone</td>\n",
       "      <td>Art &amp; Design</td>\n",
       "      <td>August 1, 2018</td>\n",
       "      <td>1.2.4</td>\n",
       "      <td>4.0.3 and up</td>\n",
       "      <td>2018-08-01</td>\n",
       "      <td>2018</td>\n",
       "      <td>3</td>\n",
       "      <td>8</td>\n",
       "      <td>1.740466</td>\n",
       "    </tr>\n",
       "    <tr>\n",
       "      <th>3</th>\n",
       "      <td>Sketch - Draw &amp; Paint</td>\n",
       "      <td>ART_AND_DESIGN</td>\n",
       "      <td>4.5</td>\n",
       "      <td>215644.0</td>\n",
       "      <td>25M</td>\n",
       "      <td>50,000,000+</td>\n",
       "      <td>Free</td>\n",
       "      <td>0.0</td>\n",
       "      <td>Teen</td>\n",
       "      <td>Art &amp; Design</td>\n",
       "      <td>June 8, 2018</td>\n",
       "      <td>Varies with device</td>\n",
       "      <td>4.2 and up</td>\n",
       "      <td>2018-06-08</td>\n",
       "      <td>2018</td>\n",
       "      <td>2</td>\n",
       "      <td>6</td>\n",
       "      <td>1.704748</td>\n",
       "    </tr>\n",
       "    <tr>\n",
       "      <th>4</th>\n",
       "      <td>Pixel Draw - Number Art Coloring Book</td>\n",
       "      <td>ART_AND_DESIGN</td>\n",
       "      <td>4.3</td>\n",
       "      <td>967.0</td>\n",
       "      <td>2.8M</td>\n",
       "      <td>100,000+</td>\n",
       "      <td>Free</td>\n",
       "      <td>0.0</td>\n",
       "      <td>Everyone</td>\n",
       "      <td>Art &amp; Design;Creativity</td>\n",
       "      <td>June 20, 2018</td>\n",
       "      <td>1.1</td>\n",
       "      <td>4.4 and up</td>\n",
       "      <td>2018-06-20</td>\n",
       "      <td>2018</td>\n",
       "      <td>2</td>\n",
       "      <td>6</td>\n",
       "      <td>1.667707</td>\n",
       "    </tr>\n",
       "  </tbody>\n",
       "</table>\n",
       "</div>"
      ],
      "text/plain": [
       "                                                 app        category  rating  \\\n",
       "0     Photo Editor & Candy Camera & Grid & ScrapBook  ART_AND_DESIGN     4.1   \n",
       "1                                Coloring book moana  ART_AND_DESIGN     3.9   \n",
       "2  U Launcher Lite – FREE Live Cool Themes, Hide ...  ART_AND_DESIGN     4.7   \n",
       "3                              Sketch - Draw & Paint  ART_AND_DESIGN     4.5   \n",
       "4              Pixel Draw - Number Art Coloring Book  ART_AND_DESIGN     4.3   \n",
       "\n",
       "    reviews  size     installs  type  price content_rating  \\\n",
       "0     159.0   19M      10,000+  Free    0.0       Everyone   \n",
       "1     967.0   14M     500,000+  Free    0.0       Everyone   \n",
       "2   87510.0  8.7M   5,000,000+  Free    0.0       Everyone   \n",
       "3  215644.0   25M  50,000,000+  Free    0.0           Teen   \n",
       "4     967.0  2.8M     100,000+  Free    0.0       Everyone   \n",
       "\n",
       "                      genres      last_updated         current_ver  \\\n",
       "0               Art & Design   January 7, 2018               1.0.0   \n",
       "1  Art & Design;Pretend Play  January 15, 2018               2.0.0   \n",
       "2               Art & Design    August 1, 2018               1.2.4   \n",
       "3               Art & Design      June 8, 2018  Varies with device   \n",
       "4    Art & Design;Creativity     June 20, 2018                 1.1   \n",
       "\n",
       "    android_ver update_date  year quarter month  log_rating  \n",
       "0  4.0.3 and up  2018-01-07  2018       1     1    1.629241  \n",
       "1  4.0.3 and up  2018-01-15  2018       1     1    1.589235  \n",
       "2  4.0.3 and up  2018-08-01  2018       3     8    1.740466  \n",
       "3    4.2 and up  2018-06-08  2018       2     6    1.704748  \n",
       "4    4.4 and up  2018-06-20  2018       2     6    1.667707  "
      ]
     },
     "execution_count": 27,
     "metadata": {},
     "output_type": "execute_result"
    }
   ],
   "source": [
    "#creating column for log of rating\n",
    "df['log_rating'] = rating_logs\n",
    "df.head()"
   ]
  },
  {
   "cell_type": "markdown",
   "metadata": {},
   "source": [
    "Correlation Analysis and \n",
    "Feature Importance"
   ]
  },
  {
   "cell_type": "code",
   "execution_count": 28,
   "metadata": {},
   "outputs": [
    {
     "data": {
      "text/plain": [
       "price     -0.019538\n",
       "reviews    0.054945\n",
       "dtype: float64"
      ]
     },
     "execution_count": 28,
     "metadata": {},
     "output_type": "execute_result"
    }
   ],
   "source": [
    "#correlation of numeric columns with target variable\n",
    "df[num_cols].corrwith(df.rating)"
   ]
  },
  {
   "cell_type": "code",
   "execution_count": 29,
   "metadata": {},
   "outputs": [
    {
     "data": {
      "text/plain": [
       "price     -0.016291\n",
       "reviews    0.051899\n",
       "dtype: float64"
      ]
     },
     "execution_count": 29,
     "metadata": {},
     "output_type": "execute_result"
    }
   ],
   "source": [
    "#correlation of numeric column with log target variable\n",
    "df[num_cols].corrwith(rating_logs)"
   ]
  },
  {
   "cell_type": "code",
   "execution_count": 30,
   "metadata": {},
   "outputs": [
    {
     "data": {
      "text/plain": [
       "0          (4.0, 4.1]\n",
       "1          (3.6, 4.0]\n",
       "2          (4.5, 4.7]\n",
       "3          (4.4, 4.5]\n",
       "4          (4.2, 4.3]\n",
       "             ...     \n",
       "10836      (4.4, 4.5]\n",
       "10837      (4.7, 5.0]\n",
       "10838    (4.1, 4.175]\n",
       "10839      (4.4, 4.5]\n",
       "10840      (4.4, 4.5]\n",
       "Name: rating, Length: 9648, dtype: category\n",
       "Categories (10, interval[float64]): [(0.999, 3.6] < (3.6, 4.0] < (4.0, 4.1] < (4.1, 4.175] ... (4.3, 4.4] < (4.4, 4.5] < (4.5, 4.7] < (4.7, 5.0]]"
      ]
     },
     "execution_count": 30,
     "metadata": {},
     "output_type": "execute_result"
    }
   ],
   "source": [
    "#turning the numerical column to categorical column\n",
    "cat_rating = pd.qcut(df.rating, q=10)\n",
    "cat_rating"
   ]
  },
  {
   "cell_type": "code",
   "execution_count": 31,
   "metadata": {},
   "outputs": [
    {
     "name": "stdout",
     "output_type": "stream",
     "text": [
      "current_ver       0.891207\n",
      "last_updated      0.553058\n",
      "installs          0.324412\n",
      "size              0.198353\n",
      "genres            0.112540\n",
      "category          0.066174\n",
      "android_ver       0.042930\n",
      "month             0.023832\n",
      "year              0.021794\n",
      "quarter           0.014560\n",
      "content_rating    0.008292\n",
      "type              0.004144\n",
      "dtype: float64\n"
     ]
    }
   ],
   "source": [
    "#mutual information scores for the categorical variables\n",
    "from sklearn.metrics import mutual_info_score\n",
    "#creating a function\n",
    "def mutual_score(series):\n",
    "    return mutual_info_score(series, cat_rating)\n",
    "mi = df[cat_cols].apply(mutual_score) #getting mutual info scores\n",
    "pd.set_option('display.max_rows', None) #setting to print all rows\n",
    "print(mi.sort_values(ascending=False)) #sorting in descending order"
   ]
  },
  {
   "cell_type": "markdown",
   "metadata": {},
   "source": [
    "Splitting the dataset"
   ]
  },
  {
   "cell_type": "code",
   "execution_count": 32,
   "metadata": {},
   "outputs": [],
   "source": [
    "#importing train_test_split library\n",
    "from sklearn.model_selection import train_test_split"
   ]
  },
  {
   "cell_type": "code",
   "execution_count": 33,
   "metadata": {},
   "outputs": [],
   "source": [
    "#split to get test set\n",
    "df_full_train, df_test = train_test_split(df, test_size=0.2, random_state=1)\n",
    "#split to get validation set\n",
    "df_train, df_val = train_test_split(df_full_train, test_size=0.25, random_state=1)\n",
    "#forming the label\n",
    "y_train = df_train.log_rating.values\n",
    "y_val = df_val.log_rating.values\n",
    "y_test = df_test.log_rating.values"
   ]
  },
  {
   "cell_type": "code",
   "execution_count": 34,
   "metadata": {},
   "outputs": [
    {
     "name": "stdout",
     "output_type": "stream",
     "text": [
      "(5788, 18)\n",
      "(1930, 18)\n",
      "(1930, 18)\n"
     ]
    },
    {
     "data": {
      "text/plain": [
       "(None, None, None)"
      ]
     },
     "execution_count": 34,
     "metadata": {},
     "output_type": "execute_result"
    }
   ],
   "source": [
    "print(df_train.shape), print(df_val.shape), print(df_test.shape)"
   ]
  },
  {
   "cell_type": "code",
   "execution_count": 35,
   "metadata": {},
   "outputs": [
    {
     "name": "stdout",
     "output_type": "stream",
     "text": [
      "(5788,)\n",
      "(1930,)\n",
      "(1930,)\n"
     ]
    },
    {
     "data": {
      "text/plain": [
       "(None, None, None)"
      ]
     },
     "execution_count": 35,
     "metadata": {},
     "output_type": "execute_result"
    }
   ],
   "source": [
    "print(y_train.shape), print(y_val.shape), print(y_test.shape)"
   ]
  },
  {
   "cell_type": "markdown",
   "metadata": {},
   "source": [
    "One-Hot encoding of categorical variables"
   ]
  },
  {
   "cell_type": "code",
   "execution_count": 36,
   "metadata": {},
   "outputs": [],
   "source": [
    "#importing dictvectorizer\n",
    "from sklearn.feature_extraction import DictVectorizer"
   ]
  },
  {
   "cell_type": "code",
   "execution_count": 37,
   "metadata": {},
   "outputs": [],
   "source": [
    "dv = DictVectorizer(sparse=False)\n",
    "train_dict = df_train[['current_ver','installs'] + ['reviews']].to_dict(orient='records')\n",
    "X_train = dv.fit_transform(train_dict)\n",
    "\n",
    "val_dict = df_val[['current_ver','installs'] + ['reviews']].to_dict(orient='records')\n",
    "X_val = dv.transform(val_dict)\n",
    "\n",
    "test_dict = df_test[['current_ver','installs'] + ['reviews']].to_dict(orient='records')\n",
    "X_test = dv.transform(test_dict)"
   ]
  },
  {
   "cell_type": "markdown",
   "metadata": {},
   "source": [
    "Training Models"
   ]
  },
  {
   "cell_type": "markdown",
   "metadata": {},
   "source": [
    "1. Linear regression"
   ]
  },
  {
   "cell_type": "code",
   "execution_count": 38,
   "metadata": {},
   "outputs": [],
   "source": [
    "#importing linear regression\n",
    "from sklearn.linear_model import LinearRegression"
   ]
  },
  {
   "cell_type": "code",
   "execution_count": 39,
   "metadata": {},
   "outputs": [
    {
     "data": {
      "text/plain": [
       "LinearRegression(fit_intercept=False)"
      ]
     },
     "execution_count": 39,
     "metadata": {},
     "output_type": "execute_result"
    }
   ],
   "source": [
    "#training the model\n",
    "lin_mod = LinearRegression(fit_intercept = False)\n",
    "lin_mod.fit(X_train, y_train)"
   ]
  },
  {
   "cell_type": "code",
   "execution_count": 40,
   "metadata": {},
   "outputs": [
    {
     "name": "stdout",
     "output_type": "stream",
     "text": [
      "0.0\n",
      "[4.02223215e-02 3.70077208e-02 4.69846992e-03 ... 1.60872998e+00\n",
      " 1.62032930e+00 1.95426986e-09]\n"
     ]
    }
   ],
   "source": [
    "# examining value of intercept and coefficients\n",
    "print(lin_mod.intercept_)\n",
    "print(lin_mod.coef_)"
   ]
  },
  {
   "cell_type": "code",
   "execution_count": 41,
   "metadata": {},
   "outputs": [
    {
     "data": {
      "text/plain": [
       "array([1.60916318, 1.59833967, 1.60707946, 1.65058018, 1.63254787,\n",
       "       1.69514993, 1.61769532, 1.63915088, 1.63544097, 1.62819888,\n",
       "       1.65343468, 1.61731993, 1.63217135, 1.60745871, 1.5949227 ,\n",
       "       1.66424356, 1.6708485 , 1.62896097, 1.61035842, 1.74788495])"
      ]
     },
     "execution_count": 41,
     "metadata": {},
     "output_type": "execute_result"
    }
   ],
   "source": [
    "#predicting the model\n",
    "y_pred_R = lin_mod.predict(X_val)\n",
    "y_pred_R[:20,]"
   ]
  },
  {
   "cell_type": "code",
   "execution_count": 42,
   "metadata": {},
   "outputs": [
    {
     "name": "stdout",
     "output_type": "stream",
     "text": [
      "Root Mean Square Error = 0.11726337236303992\n"
     ]
    }
   ],
   "source": [
    "#importing libraries for evaluation\n",
    "from sklearn.metrics import mean_squared_error\n",
    "import math\n",
    "print('Root Mean Square Error = ' + str(math.sqrt(mean_squared_error(y_val, y_pred_R))))"
   ]
  },
  {
   "cell_type": "markdown",
   "metadata": {},
   "source": [
    "2. Decision Trees"
   ]
  },
  {
   "cell_type": "code",
   "execution_count": 43,
   "metadata": {},
   "outputs": [],
   "source": [
    "from sklearn.tree import DecisionTreeRegressor\n",
    "from sklearn.tree import export_text"
   ]
  },
  {
   "cell_type": "code",
   "execution_count": 44,
   "metadata": {},
   "outputs": [
    {
     "data": {
      "text/plain": [
       "DecisionTreeRegressor(max_depth=2)"
      ]
     },
     "execution_count": 44,
     "metadata": {},
     "output_type": "execute_result"
    }
   ],
   "source": [
    "#training model\n",
    "dt = DecisionTreeRegressor(max_depth=2)\n",
    "dt.fit(X_train, y_train)"
   ]
  },
  {
   "cell_type": "code",
   "execution_count": 45,
   "metadata": {},
   "outputs": [
    {
     "data": {
      "text/plain": [
       "array([1.622469  , 1.622469  , 1.622469  , 1.622469  , 1.622469  ,\n",
       "       1.65489041, 1.622469  , 1.622469  , 1.622469  , 1.65489041,\n",
       "       1.65489041, 1.622469  , 1.622469  , 1.622469  , 1.65489041,\n",
       "       1.622469  , 1.68406966, 1.622469  , 1.622469  , 1.68406966])"
      ]
     },
     "execution_count": 45,
     "metadata": {},
     "output_type": "execute_result"
    }
   ],
   "source": [
    "#predicting the model\n",
    "y_pred_DT = dt.predict(X_val)\n",
    "y_pred_DT[:20,]"
   ]
  },
  {
   "cell_type": "code",
   "execution_count": 46,
   "metadata": {},
   "outputs": [
    {
     "name": "stdout",
     "output_type": "stream",
     "text": [
      "Root Mean Square Error = 0.11277950470647602\n"
     ]
    }
   ],
   "source": [
    "#evaluation\n",
    "print('Root Mean Square Error = ' + str(math.sqrt(mean_squared_error(y_val, y_pred_DT))))"
   ]
  },
  {
   "cell_type": "code",
   "execution_count": 47,
   "metadata": {},
   "outputs": [
    {
     "name": "stdout",
     "output_type": "stream",
     "text": [
      "|--- reviews <= 5718.50\n",
      "|   |--- current_ver=41.9 <= 0.50\n",
      "|   |   |--- value: [1.62]\n",
      "|   |--- current_ver=41.9 >  0.50\n",
      "|   |   |--- value: [0.69]\n",
      "|--- reviews >  5718.50\n",
      "|   |--- reviews <= 172416.50\n",
      "|   |   |--- value: [1.65]\n",
      "|   |--- reviews >  172416.50\n",
      "|   |   |--- value: [1.68]\n",
      "\n"
     ]
    }
   ],
   "source": [
    "print(export_text(dt, feature_names=dv.get_feature_names()))"
   ]
  },
  {
   "cell_type": "code",
   "execution_count": 48,
   "metadata": {},
   "outputs": [],
   "source": [
    "#selecting the best max_depth\n",
    "scores = [] #creating an empty list\n",
    "for d in [2, 6, 10, 14, 18]:#iterating max depth\n",
    "    for s in [1, 5, 10, 15, 20, 50, 100, 200]:#iterating min sample leaf\n",
    "        dt = DecisionTreeRegressor(max_depth=d, min_samples_leaf=s)\n",
    "        dt.fit(X_train, y_train)\n",
    "        y_pred = dt.predict(X_val)\n",
    "        RMSE = math.sqrt(mean_squared_error(y_val, y_pred))\n",
    "        scores.append((d,s,RMSE))\n",
    "                     "
   ]
  },
  {
   "cell_type": "code",
   "execution_count": 49,
   "metadata": {},
   "outputs": [
    {
     "data": {
      "text/html": [
       "<div>\n",
       "<style scoped>\n",
       "    .dataframe tbody tr th:only-of-type {\n",
       "        vertical-align: middle;\n",
       "    }\n",
       "\n",
       "    .dataframe tbody tr th {\n",
       "        vertical-align: top;\n",
       "    }\n",
       "\n",
       "    .dataframe thead th {\n",
       "        text-align: right;\n",
       "    }\n",
       "</style>\n",
       "<table border=\"1\" class=\"dataframe\">\n",
       "  <thead>\n",
       "    <tr style=\"text-align: right;\">\n",
       "      <th></th>\n",
       "      <th>max_depth</th>\n",
       "      <th>min_samples_leaf</th>\n",
       "      <th>RMSE</th>\n",
       "    </tr>\n",
       "  </thead>\n",
       "  <tbody>\n",
       "    <tr>\n",
       "      <th>0</th>\n",
       "      <td>2</td>\n",
       "      <td>1</td>\n",
       "      <td>0.112780</td>\n",
       "    </tr>\n",
       "    <tr>\n",
       "      <th>1</th>\n",
       "      <td>2</td>\n",
       "      <td>5</td>\n",
       "      <td>0.112232</td>\n",
       "    </tr>\n",
       "    <tr>\n",
       "      <th>2</th>\n",
       "      <td>2</td>\n",
       "      <td>10</td>\n",
       "      <td>0.112232</td>\n",
       "    </tr>\n",
       "    <tr>\n",
       "      <th>3</th>\n",
       "      <td>2</td>\n",
       "      <td>15</td>\n",
       "      <td>0.112232</td>\n",
       "    </tr>\n",
       "    <tr>\n",
       "      <th>4</th>\n",
       "      <td>2</td>\n",
       "      <td>20</td>\n",
       "      <td>0.112232</td>\n",
       "    </tr>\n",
       "    <tr>\n",
       "      <th>5</th>\n",
       "      <td>2</td>\n",
       "      <td>50</td>\n",
       "      <td>0.112232</td>\n",
       "    </tr>\n",
       "    <tr>\n",
       "      <th>6</th>\n",
       "      <td>2</td>\n",
       "      <td>100</td>\n",
       "      <td>0.112232</td>\n",
       "    </tr>\n",
       "    <tr>\n",
       "      <th>7</th>\n",
       "      <td>2</td>\n",
       "      <td>200</td>\n",
       "      <td>0.112232</td>\n",
       "    </tr>\n",
       "    <tr>\n",
       "      <th>8</th>\n",
       "      <td>6</td>\n",
       "      <td>1</td>\n",
       "      <td>0.111846</td>\n",
       "    </tr>\n",
       "    <tr>\n",
       "      <th>9</th>\n",
       "      <td>6</td>\n",
       "      <td>5</td>\n",
       "      <td>0.109982</td>\n",
       "    </tr>\n",
       "    <tr>\n",
       "      <th>10</th>\n",
       "      <td>6</td>\n",
       "      <td>10</td>\n",
       "      <td>0.110610</td>\n",
       "    </tr>\n",
       "    <tr>\n",
       "      <th>11</th>\n",
       "      <td>6</td>\n",
       "      <td>15</td>\n",
       "      <td>0.110397</td>\n",
       "    </tr>\n",
       "    <tr>\n",
       "      <th>12</th>\n",
       "      <td>6</td>\n",
       "      <td>20</td>\n",
       "      <td>0.110541</td>\n",
       "    </tr>\n",
       "    <tr>\n",
       "      <th>13</th>\n",
       "      <td>6</td>\n",
       "      <td>50</td>\n",
       "      <td>0.111374</td>\n",
       "    </tr>\n",
       "    <tr>\n",
       "      <th>14</th>\n",
       "      <td>6</td>\n",
       "      <td>100</td>\n",
       "      <td>0.110539</td>\n",
       "    </tr>\n",
       "    <tr>\n",
       "      <th>15</th>\n",
       "      <td>6</td>\n",
       "      <td>200</td>\n",
       "      <td>0.111205</td>\n",
       "    </tr>\n",
       "    <tr>\n",
       "      <th>16</th>\n",
       "      <td>10</td>\n",
       "      <td>1</td>\n",
       "      <td>0.111397</td>\n",
       "    </tr>\n",
       "    <tr>\n",
       "      <th>17</th>\n",
       "      <td>10</td>\n",
       "      <td>5</td>\n",
       "      <td>0.112863</td>\n",
       "    </tr>\n",
       "    <tr>\n",
       "      <th>18</th>\n",
       "      <td>10</td>\n",
       "      <td>10</td>\n",
       "      <td>0.113619</td>\n",
       "    </tr>\n",
       "    <tr>\n",
       "      <th>19</th>\n",
       "      <td>10</td>\n",
       "      <td>15</td>\n",
       "      <td>0.112828</td>\n",
       "    </tr>\n",
       "    <tr>\n",
       "      <th>20</th>\n",
       "      <td>10</td>\n",
       "      <td>20</td>\n",
       "      <td>0.113029</td>\n",
       "    </tr>\n",
       "    <tr>\n",
       "      <th>21</th>\n",
       "      <td>10</td>\n",
       "      <td>50</td>\n",
       "      <td>0.111333</td>\n",
       "    </tr>\n",
       "    <tr>\n",
       "      <th>22</th>\n",
       "      <td>10</td>\n",
       "      <td>100</td>\n",
       "      <td>0.110113</td>\n",
       "    </tr>\n",
       "    <tr>\n",
       "      <th>23</th>\n",
       "      <td>10</td>\n",
       "      <td>200</td>\n",
       "      <td>0.110586</td>\n",
       "    </tr>\n",
       "    <tr>\n",
       "      <th>24</th>\n",
       "      <td>14</td>\n",
       "      <td>1</td>\n",
       "      <td>0.113080</td>\n",
       "    </tr>\n",
       "    <tr>\n",
       "      <th>25</th>\n",
       "      <td>14</td>\n",
       "      <td>5</td>\n",
       "      <td>0.115904</td>\n",
       "    </tr>\n",
       "    <tr>\n",
       "      <th>26</th>\n",
       "      <td>14</td>\n",
       "      <td>10</td>\n",
       "      <td>0.115495</td>\n",
       "    </tr>\n",
       "    <tr>\n",
       "      <th>27</th>\n",
       "      <td>14</td>\n",
       "      <td>15</td>\n",
       "      <td>0.114446</td>\n",
       "    </tr>\n",
       "    <tr>\n",
       "      <th>28</th>\n",
       "      <td>14</td>\n",
       "      <td>20</td>\n",
       "      <td>0.114266</td>\n",
       "    </tr>\n",
       "    <tr>\n",
       "      <th>29</th>\n",
       "      <td>14</td>\n",
       "      <td>50</td>\n",
       "      <td>0.111367</td>\n",
       "    </tr>\n",
       "    <tr>\n",
       "      <th>30</th>\n",
       "      <td>14</td>\n",
       "      <td>100</td>\n",
       "      <td>0.110113</td>\n",
       "    </tr>\n",
       "    <tr>\n",
       "      <th>31</th>\n",
       "      <td>14</td>\n",
       "      <td>200</td>\n",
       "      <td>0.110586</td>\n",
       "    </tr>\n",
       "    <tr>\n",
       "      <th>32</th>\n",
       "      <td>18</td>\n",
       "      <td>1</td>\n",
       "      <td>0.113569</td>\n",
       "    </tr>\n",
       "    <tr>\n",
       "      <th>33</th>\n",
       "      <td>18</td>\n",
       "      <td>5</td>\n",
       "      <td>0.118028</td>\n",
       "    </tr>\n",
       "    <tr>\n",
       "      <th>34</th>\n",
       "      <td>18</td>\n",
       "      <td>10</td>\n",
       "      <td>0.116802</td>\n",
       "    </tr>\n",
       "    <tr>\n",
       "      <th>35</th>\n",
       "      <td>18</td>\n",
       "      <td>15</td>\n",
       "      <td>0.115054</td>\n",
       "    </tr>\n",
       "    <tr>\n",
       "      <th>36</th>\n",
       "      <td>18</td>\n",
       "      <td>20</td>\n",
       "      <td>0.114287</td>\n",
       "    </tr>\n",
       "    <tr>\n",
       "      <th>37</th>\n",
       "      <td>18</td>\n",
       "      <td>50</td>\n",
       "      <td>0.111367</td>\n",
       "    </tr>\n",
       "    <tr>\n",
       "      <th>38</th>\n",
       "      <td>18</td>\n",
       "      <td>100</td>\n",
       "      <td>0.110113</td>\n",
       "    </tr>\n",
       "    <tr>\n",
       "      <th>39</th>\n",
       "      <td>18</td>\n",
       "      <td>200</td>\n",
       "      <td>0.110586</td>\n",
       "    </tr>\n",
       "  </tbody>\n",
       "</table>\n",
       "</div>"
      ],
      "text/plain": [
       "    max_depth  min_samples_leaf      RMSE\n",
       "0           2                 1  0.112780\n",
       "1           2                 5  0.112232\n",
       "2           2                10  0.112232\n",
       "3           2                15  0.112232\n",
       "4           2                20  0.112232\n",
       "5           2                50  0.112232\n",
       "6           2               100  0.112232\n",
       "7           2               200  0.112232\n",
       "8           6                 1  0.111846\n",
       "9           6                 5  0.109982\n",
       "10          6                10  0.110610\n",
       "11          6                15  0.110397\n",
       "12          6                20  0.110541\n",
       "13          6                50  0.111374\n",
       "14          6               100  0.110539\n",
       "15          6               200  0.111205\n",
       "16         10                 1  0.111397\n",
       "17         10                 5  0.112863\n",
       "18         10                10  0.113619\n",
       "19         10                15  0.112828\n",
       "20         10                20  0.113029\n",
       "21         10                50  0.111333\n",
       "22         10               100  0.110113\n",
       "23         10               200  0.110586\n",
       "24         14                 1  0.113080\n",
       "25         14                 5  0.115904\n",
       "26         14                10  0.115495\n",
       "27         14                15  0.114446\n",
       "28         14                20  0.114266\n",
       "29         14                50  0.111367\n",
       "30         14               100  0.110113\n",
       "31         14               200  0.110586\n",
       "32         18                 1  0.113569\n",
       "33         18                 5  0.118028\n",
       "34         18                10  0.116802\n",
       "35         18                15  0.115054\n",
       "36         18                20  0.114287\n",
       "37         18                50  0.111367\n",
       "38         18               100  0.110113\n",
       "39         18               200  0.110586"
      ]
     },
     "execution_count": 49,
     "metadata": {},
     "output_type": "execute_result"
    }
   ],
   "source": [
    "columns = ['max_depth','min_samples_leaf', 'RMSE']\n",
    "#creating dataframe\n",
    "df_scores = pd.DataFrame(scores, columns=columns)\n",
    "df_scores"
   ]
  },
  {
   "cell_type": "code",
   "execution_count": 50,
   "metadata": {},
   "outputs": [
    {
     "data": {
      "text/plain": [
       "<matplotlib.legend.Legend at 0x1303cdc86d0>"
      ]
     },
     "execution_count": 50,
     "metadata": {},
     "output_type": "execute_result"
    },
    {
     "data": {
      "image/png": "[encoded data removed]",
      "text/plain": [
       "<Figure size 432x288 with 1 Axes>"
      ]
     },
     "metadata": {
      "needs_background": "light"
     },
     "output_type": "display_data"
    }
   ],
   "source": [
    "#plotting\n",
    "for  s in [1, 5, 10, 15, 20, 50, 100, 200]:\n",
    "    df_subset = df_scores[df_scores.min_samples_leaf == s]\n",
    "    \n",
    "    plt.plot(df_subset.max_depth, df_subset.RMSE,\n",
    "             label='min_samples_leaf=%d' % s)\n",
    "\n",
    "plt.legend()"
   ]
  },
  {
   "cell_type": "markdown",
   "metadata": {},
   "source": [
    "3. Random Forest"
   ]
  },
  {
   "cell_type": "code",
   "execution_count": 51,
   "metadata": {},
   "outputs": [],
   "source": [
    "#importing libraries\n",
    "from sklearn.ensemble import RandomForestRegressor"
   ]
  },
  {
   "cell_type": "code",
   "execution_count": 52,
   "metadata": {},
   "outputs": [
    {
     "data": {
      "text/plain": [
       "array([1.62291984, 1.62874322, 1.66752453, 1.65223132, 1.53098726,\n",
       "       1.69657515, 1.67148375, 1.64384936, 1.5003386 , 1.7227347 ,\n",
       "       1.66473318, 1.70852492, 1.63767581, 1.67853558, 1.68440305,\n",
       "       1.64384936, 1.69173089, 1.71780441, 1.63363594, 1.70835179])"
      ]
     },
     "execution_count": 52,
     "metadata": {},
     "output_type": "execute_result"
    }
   ],
   "source": [
    "#training model\n",
    "rf = RandomForestRegressor(n_estimators=10, random_state=1, n_jobs=-1)\n",
    "rf.fit(X_train, y_train)\n",
    "#predicting\n",
    "y_pred_RF = rf.predict(X_val)\n",
    "y_pred_RF[:20,]"
   ]
  },
  {
   "cell_type": "code",
   "execution_count": 53,
   "metadata": {},
   "outputs": [
    {
     "name": "stdout",
     "output_type": "stream",
     "text": [
      "Root Mean Square Error = 0.11909853929218382\n"
     ]
    }
   ],
   "source": [
    "#evaluation\n",
    "print('Root Mean Square Error = ' + str(math.sqrt(mean_squared_error(y_val, y_pred_RF))))"
   ]
  },
  {
   "cell_type": "code",
   "execution_count": 54,
   "metadata": {},
   "outputs": [],
   "source": [
    "#tuning the parameters\n",
    "rf_scores = [] #creating an empty list\n",
    "for d in [2, 6, 10, 14, 18]:#iterating max_depth\n",
    "    for n in range(10, 101, 10):#iterating n_estimators\n",
    "        rf = RandomForestRegressor(n_estimators=n, random_state=1, max_depth=d, n_jobs=-1)\n",
    "        rf.fit(X_train, y_train)\n",
    "        y_pred = dt.predict(X_val)\n",
    "        RMSE = math.sqrt(mean_squared_error(y_val, y_pred))\n",
    "        rf_scores.append((d,n,RMSE))"
   ]
  },
  {
   "cell_type": "code",
   "execution_count": 55,
   "metadata": {},
   "outputs": [],
   "source": [
    "columns = ['max_depth', 'n_estimators', 'RMSE']\n",
    "#creating dataframe\n",
    "df_rfscores = pd.DataFrame(rf_scores, columns=columns)\n"
   ]
  },
  {
   "cell_type": "code",
   "execution_count": 56,
   "metadata": {},
   "outputs": [
    {
     "data": {
      "text/plain": [
       "<matplotlib.legend.Legend at 0x1303faacf10>"
      ]
     },
     "execution_count": 56,
     "metadata": {},
     "output_type": "execute_result"
    },
    {
     "data": {
      "image/png": "[encoded data removed]",
      "text/plain": [
       "<Figure size 432x288 with 1 Axes>"
      ]
     },
     "metadata": {
      "needs_background": "light"
     },
     "output_type": "display_data"
    }
   ],
   "source": [
    "#plotting\n",
    "for d in [2, 6, 10, 14, 18]:\n",
    "    df_subset = df_rfscores[df_rfscores.max_depth == d]\n",
    "    \n",
    "    plt.plot(df_subset.n_estimators, df_subset.RMSE,\n",
    "             label='max_depth=%d' % d)\n",
    "\n",
    "plt.legend()"
   ]
  },
  {
   "cell_type": "markdown",
   "metadata": {},
   "source": [
    "3. Xgboost"
   ]
  },
  {
   "cell_type": "code",
   "execution_count": 57,
   "metadata": {},
   "outputs": [
    {
     "name": "stdout",
     "output_type": "stream",
     "text": [
      "Requirement already satisfied: xgboost in c:\\users\\jorn\\anaconda3\\lib\\site-packages (1.5.0)\n",
      "Requirement already satisfied: numpy in c:\\users\\jorn\\anaconda3\\lib\\site-packages (from xgboost) (1.19.2)\n",
      "Requirement already satisfied: scipy in c:\\users\\jorn\\anaconda3\\lib\\site-packages (from xgboost) (1.5.2)\n"
     ]
    }
   ],
   "source": [
    "import sys\n",
    "!{sys.executable} -m pip install xgboost"
   ]
  },
  {
   "cell_type": "code",
   "execution_count": 58,
   "metadata": {},
   "outputs": [],
   "source": [
    "#importing xgboost\n",
    "import xgboost as xgb"
   ]
  },
  {
   "cell_type": "code",
   "execution_count": 59,
   "metadata": {},
   "outputs": [],
   "source": [
    "#creating Dmatrix for train and validation set\n",
    "features = dv.get_feature_names()\n",
    "dtrain = xgb.DMatrix(X_train, label=y_train, feature_names=features)\n",
    "dval = xgb.DMatrix(X_val, label=y_val, feature_names=features)"
   ]
  },
  {
   "cell_type": "code",
   "execution_count": 60,
   "metadata": {},
   "outputs": [],
   "source": [
    "#creating watchlist\n",
    "watchlist = [(dtrain, 'train'), (dval, 'val')]"
   ]
  },
  {
   "cell_type": "code",
   "execution_count": 61,
   "metadata": {},
   "outputs": [
    {
     "name": "stdout",
     "output_type": "stream",
     "text": [
      "[0]\ttrain-rmse:0.80405\tval-rmse:0.80191\n",
      "[5]\ttrain-rmse:0.16838\tval-rmse:0.17267\n",
      "[10]\ttrain-rmse:0.10156\tval-rmse:0.11324\n",
      "[15]\ttrain-rmse:0.09675\tval-rmse:0.11098\n",
      "[20]\ttrain-rmse:0.09566\tval-rmse:0.11088\n",
      "[25]\ttrain-rmse:0.09479\tval-rmse:0.11096\n",
      "[30]\ttrain-rmse:0.09336\tval-rmse:0.11067\n",
      "[35]\ttrain-rmse:0.09286\tval-rmse:0.11070\n",
      "[40]\ttrain-rmse:0.09236\tval-rmse:0.11069\n",
      "[45]\ttrain-rmse:0.09197\tval-rmse:0.11070\n",
      "[50]\ttrain-rmse:0.09145\tval-rmse:0.11081\n",
      "[55]\ttrain-rmse:0.09090\tval-rmse:0.11090\n",
      "[60]\ttrain-rmse:0.09043\tval-rmse:0.11079\n",
      "[65]\ttrain-rmse:0.09009\tval-rmse:0.11079\n",
      "[70]\ttrain-rmse:0.08966\tval-rmse:0.11092\n",
      "[75]\ttrain-rmse:0.08934\tval-rmse:0.11093\n",
      "[80]\ttrain-rmse:0.08907\tval-rmse:0.11097\n",
      "[85]\ttrain-rmse:0.08863\tval-rmse:0.11102\n",
      "[90]\ttrain-rmse:0.08843\tval-rmse:0.11100\n",
      "[95]\ttrain-rmse:0.08823\tval-rmse:0.11100\n",
      "[99]\ttrain-rmse:0.08801\tval-rmse:0.11105\n"
     ]
    }
   ],
   "source": [
    "#training the model with eta 0.3\n",
    "xgb_params = {\n",
    "    'eta': 0.3, \n",
    "    'max_depth': 6,\n",
    "    'min_child_weight': 1,\n",
    "\n",
    "    'objective': 'reg:squarederror',\n",
    "    'nthread': 8,\n",
    "\n",
    "    'seed': 1,\n",
    "    'verbosity': 1,\n",
    "}\n",
    "model = xgb.train(xgb_params, dtrain, num_boost_round=100,\n",
    "                  verbose_eval=5,\n",
    "                  evals=watchlist)"
   ]
  },
  {
   "cell_type": "code",
   "execution_count": 62,
   "metadata": {},
   "outputs": [
    {
     "name": "stdout",
     "output_type": "stream",
     "text": [
      "[0]\ttrain-rmse:1.03013\tval-rmse:1.02760\n",
      "[5]\ttrain-rmse:0.61428\tval-rmse:0.61276\n",
      "[10]\ttrain-rmse:0.37221\tval-rmse:0.37203\n",
      "[15]\ttrain-rmse:0.23455\tval-rmse:0.23652\n",
      "[20]\ttrain-rmse:0.16041\tval-rmse:0.16542\n",
      "[25]\ttrain-rmse:0.12429\tval-rmse:0.13231\n",
      "[30]\ttrain-rmse:0.10834\tval-rmse:0.11868\n",
      "[35]\ttrain-rmse:0.10190\tval-rmse:0.11373\n",
      "[40]\ttrain-rmse:0.09924\tval-rmse:0.11200\n",
      "[45]\ttrain-rmse:0.09819\tval-rmse:0.11151\n",
      "[50]\ttrain-rmse:0.09758\tval-rmse:0.11135\n",
      "[55]\ttrain-rmse:0.09710\tval-rmse:0.11129\n",
      "[60]\ttrain-rmse:0.09662\tval-rmse:0.11121\n",
      "[65]\ttrain-rmse:0.09628\tval-rmse:0.11119\n",
      "[70]\ttrain-rmse:0.09607\tval-rmse:0.11121\n",
      "[75]\ttrain-rmse:0.09580\tval-rmse:0.11121\n",
      "[80]\ttrain-rmse:0.09561\tval-rmse:0.11122\n",
      "[85]\ttrain-rmse:0.09512\tval-rmse:0.11118\n",
      "[90]\ttrain-rmse:0.09452\tval-rmse:0.11106\n",
      "[95]\ttrain-rmse:0.09434\tval-rmse:0.11106\n",
      "[99]\ttrain-rmse:0.09418\tval-rmse:0.11105\n"
     ]
    }
   ],
   "source": [
    "#training the model with eta 0.1\n",
    "xgb_params = {\n",
    "    'eta': 0.1, \n",
    "    'max_depth': 6,\n",
    "    'min_child_weight': 1,\n",
    "\n",
    "    'objective': 'reg:squarederror',\n",
    "    'nthread': 8,\n",
    "\n",
    "    'seed': 1,\n",
    "    'verbosity': 1,\n",
    "}\n",
    "model = xgb.train(xgb_params, dtrain, num_boost_round=100,\n",
    "                  verbose_eval=5,\n",
    "                  evals=watchlist)"
   ]
  },
  {
   "cell_type": "code",
   "execution_count": 63,
   "metadata": {},
   "outputs": [
    {
     "name": "stdout",
     "output_type": "stream",
     "text": [
      "[0]\ttrain-rmse:1.13207\tval-rmse:1.12940\n",
      "[5]\ttrain-rmse:1.07710\tval-rmse:1.07450\n",
      "[10]\ttrain-rmse:1.02485\tval-rmse:1.02233\n",
      "[15]\ttrain-rmse:0.97519\tval-rmse:0.97275\n",
      "[20]\ttrain-rmse:0.92798\tval-rmse:0.92563\n",
      "[25]\ttrain-rmse:0.88312\tval-rmse:0.88086\n",
      "[30]\ttrain-rmse:0.84048\tval-rmse:0.83831\n",
      "[35]\ttrain-rmse:0.79997\tval-rmse:0.79789\n",
      "[40]\ttrain-rmse:0.76146\tval-rmse:0.75949\n",
      "[45]\ttrain-rmse:0.72489\tval-rmse:0.72302\n",
      "[50]\ttrain-rmse:0.69013\tval-rmse:0.68837\n",
      "[55]\ttrain-rmse:0.65712\tval-rmse:0.65546\n",
      "[60]\ttrain-rmse:0.62576\tval-rmse:0.62421\n",
      "[65]\ttrain-rmse:0.59598\tval-rmse:0.59454\n",
      "[70]\ttrain-rmse:0.56770\tval-rmse:0.56636\n",
      "[75]\ttrain-rmse:0.54085\tval-rmse:0.53962\n",
      "[80]\ttrain-rmse:0.51535\tval-rmse:0.51422\n",
      "[85]\ttrain-rmse:0.49114\tval-rmse:0.49013\n",
      "[90]\ttrain-rmse:0.46816\tval-rmse:0.46727\n",
      "[95]\ttrain-rmse:0.44637\tval-rmse:0.44561\n",
      "[99]\ttrain-rmse:0.42974\tval-rmse:0.42909\n"
     ]
    }
   ],
   "source": [
    "#training the model with 0.01\n",
    "xgb_params = {\n",
    "    'eta': 0.01, \n",
    "    'max_depth': 6,\n",
    "    'min_child_weight': 1,\n",
    "\n",
    "    'objective': 'reg:squarederror',\n",
    "    'nthread': 8,\n",
    "\n",
    "    'seed': 1,\n",
    "    'verbosity': 1,\n",
    "}\n",
    "model = xgb.train(xgb_params, dtrain, num_boost_round=100,\n",
    "                  verbose_eval=5,\n",
    "                  evals=watchlist)"
   ]
  },
  {
   "cell_type": "code",
   "execution_count": null,
   "metadata": {},
   "outputs": [],
   "source": []
  }
 ],
 "metadata": {
  "kernelspec": {
   "display_name": "Python 3",
   "language": "python",
   "name": "python3"
  },
  "language_info": {
   "codemirror_mode": {
    "name": "ipython",
    "version": 3
   },
   "file_extension": ".py",
   "mimetype": "text/x-python",
   "name": "python",
   "nbconvert_exporter": "python",
   "pygments_lexer": "ipython3",
   "version": "3.8.5"
  }
 },
 "nbformat": 4,
 "nbformat_minor": 4
}
